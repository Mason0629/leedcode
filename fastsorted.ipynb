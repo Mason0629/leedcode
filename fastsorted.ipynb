{
 "cells": [
  {
   "cell_type": "code",
   "execution_count": 14,
   "metadata": {},
   "outputs": [],
   "source": [
    "def partition(arr, left, right):\n",
    "    pivot = arr[left]\n",
    "    \n",
    "    while left < right:\n",
    "        while left < right and arr[right] > pivot:\n",
    "            right -= 1\n",
    "\n",
    "        if left < right:\n",
    "            arr[left] = arr[right]\n",
    "            left += 1\n",
    "\n",
    "        while left < right and arr[left] <= pivot:\n",
    "            left += 1\n",
    "\n",
    "        if left < right:\n",
    "            arr[right] = arr[left]\n",
    "            right -= 1\n",
    "            \n",
    "    arr[left] = pivot\n",
    "    \n",
    "    return left\n",
    "\n",
    "def fastSort(arr, left, right):\n",
    "    if left < right:\n",
    "        pos = partition(arr, left, right)\n",
    "        fastSort(arr, left, pos-1)\n",
    "        fastSort(arr, pos+1, right)\n",
    "    \n",
    "    return arr    "
   ]
  },
  {
   "cell_type": "code",
   "execution_count": 15,
   "metadata": {},
   "outputs": [
    {
     "name": "stdout",
     "output_type": "stream",
     "text": [
      "[1, 2, 3, 4, 5, 6]\n"
     ]
    }
   ],
   "source": [
    "arr = [2, 3, 1, 5, 6, 4]\n",
    "\n",
    "arr = fastSort(arr, 0, len(arr)-1)\n",
    "print(arr)"
   ]
  },
  {
   "cell_type": "code",
   "execution_count": 46,
   "metadata": {},
   "outputs": [
    {
     "name": "stdout",
     "output_type": "stream",
     "text": [
      "[1, 1, 2, 4, 5, 6]\n"
     ]
    }
   ],
   "source": [
    "def partition(nums, left, right):\n",
    "    i, j, pivot = left, right, nums[left]\n",
    "    while i < j and nums[j] > pivot:\n",
    "        j -= 1\n",
    "    if i < j:\n",
    "        nums[i] = nums[j]\n",
    "        i += 1\n",
    "    while i < j and nums[i] <= pivot:\n",
    "        i += 1\n",
    "    if i < j:\n",
    "        nums[j] = nums[i]\n",
    "        j -= 1\n",
    "        \n",
    "    nums[i] = pivot\n",
    "    \n",
    "    return i\n",
    "\n",
    "def fastSort(nums, left, right):\n",
    "    if left < right:\n",
    "        pos = partition(nums, left, right)\n",
    "        fastSort(nums, left, pos-1)\n",
    "        fastSort(nums, pos+1, right)\n",
    "    return nums\n",
    "    \n",
    "\n",
    "arr = [2, 1, 1, 5, 6, 4]\n",
    "\n",
    "arr = fastSort(arr, 0, len(arr)-1)\n",
    "print(arr)"
   ]
  },
  {
   "cell_type": "code",
   "execution_count": null,
   "metadata": {},
   "outputs": [],
   "source": []
  }
 ],
 "metadata": {
  "kernelspec": {
   "display_name": "Python 3",
   "language": "python",
   "name": "python3"
  },
  "language_info": {
   "codemirror_mode": {
    "name": "ipython",
    "version": 3
   },
   "file_extension": ".py",
   "mimetype": "text/x-python",
   "name": "python",
   "nbconvert_exporter": "python",
   "pygments_lexer": "ipython3",
   "version": "3.7.5"
  }
 },
 "nbformat": 4,
 "nbformat_minor": 2
}
