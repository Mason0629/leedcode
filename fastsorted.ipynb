{
 "cells": [
  {
   "cell_type": "code",
   "execution_count": 15,
   "metadata": {},
   "outputs": [],
   "source": [
    "def partition(arr, left, right):\n",
    "    pivot = arr[left]\n",
    "    \n",
    "    while left < right:\n",
    "        while left < right and arr[right] > pivot:\n",
    "            right -= 1\n",
    "\n",
    "        if left < right:\n",
    "            arr[left] = arr[right]\n",
    "            left += 1\n",
    "\n",
    "        while left < right and arr[left] <= pivot:\n",
    "            left += 1\n",
    "\n",
    "        if left < right:\n",
    "            arr[right] = arr[left]\n",
    "            right -= 1\n",
    "            \n",
    "    arr[left] = pivot\n",
    "    \n",
    "    return left\n",
    "\n",
    "def fastSort(arr, left, right):\n",
    "    if left < right:\n",
    "        pos = partition(arr, left, right)\n",
    "        fastSort(arr, left, pos-1)\n",
    "        fastSort(arr, pos+1, right)\n",
    "    \n",
    "    return arr    "
   ]
  },
  {
   "cell_type": "code",
   "execution_count": 16,
   "metadata": {},
   "outputs": [
    {
     "name": "stdout",
     "output_type": "stream",
     "text": [
      "[3, 4, 5, 6, 34, 34, 43, 44, 54, 123, 434, 465, 545, 676]\n"
     ]
    }
   ],
   "source": [
    "arr = [123,434,3,44,545,465,43,34,54,676,34,4,5,6]\n",
    "\n",
    "arr = fastSort(arr, 0, len(arr)-1)\n",
    "print(arr)"
   ]
  }
 ],
 "metadata": {
  "kernelspec": {
   "display_name": "Python 3",
   "language": "python",
   "name": "python3"
  },
  "language_info": {
   "codemirror_mode": {
    "name": "ipython",
    "version": 3
   },
   "file_extension": ".py",
   "mimetype": "text/x-python",
   "name": "python",
   "nbconvert_exporter": "python",
   "pygments_lexer": "ipython3",
   "version": "3.7.5"
  }
 },
 "nbformat": 4,
 "nbformat_minor": 2
}
