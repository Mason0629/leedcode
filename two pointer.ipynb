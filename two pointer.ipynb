{
 "cells": [
  {
   "cell_type": "markdown",
   "metadata": {},
   "source": [
    "## 滑动窗口 -- 最小子序列之和"
   ]
  },
  {
   "cell_type": "code",
   "execution_count": 10,
   "metadata": {},
   "outputs": [],
   "source": [
    "def subArraySum(arr, s):\n",
    "    #初始化一个数组用于储存起始位置为0的连续子序列之和\n",
    "    sums = []\n",
    "    #初始化滑动窗口指针，以及答案 注意：答案的初始值设置为序列长度+1\n",
    "    i, j, ans = 0, 0, len(arr) + 1\n",
    "    #填充连续子序列之和数组\n",
    "    #数组使用的trick：i 到 j 之间的连续序列之和为 sums[j] - sums[i] + num[i]\n",
    "    for num in arr:\n",
    "        if not sums:\n",
    "            sums.append(num)\n",
    "        else:\n",
    "            sums.append(sums[-1] + num)\n",
    "    #设置规则 移动指针 循环终止条件为 i, j 不得超过序列的长度\n",
    "    while i < len(arr) and j < len(arr):\n",
    "        #如果i, j 之间的子序列之和 小于阈值 则右指针 向右以一个单位，子序列长度变长一个单位\n",
    "        if sums[j] - sums[i] + arr[i] < s:\n",
    "            j += 1\n",
    "        #否则固定右指针位置 再做判断\n",
    "        else:\n",
    "            #如果子序列长度小于上次更新的长度，则重新更新答案\n",
    "            if j - i + 1 < ans:\n",
    "                 ans= j - i + 1\n",
    "            #然后左指针向右移动一个单位，子序列长度缩短一个段位\n",
    "            i += 1\n",
    "    #判断 如果存在解 整个过程 ans 将会小于初始长度 \n",
    "    if ans != len(arr) + 1:\n",
    "        return ans\n",
    "    else:\n",
    "        return 0\n",
    "    \n",
    "arr = [2, 3, 1, 2, 4, 3]\n",
    "s = 7\n",
    "\n",
    "r = subArraySum(arr, s)\n",
    "print(r)"
   ]
  },
  {
   "cell_type": "markdown",
   "metadata": {},
   "source": [
    "## 对撞指针 -- 两数之和"
   ]
  },
  {
   "cell_type": "code",
   "execution_count": 11,
   "metadata": {},
   "outputs": [],
   "source": [
    "#一个有序数组的两数之和\n",
    "def twoSum(arr, s):\n",
    "    arr.sort()\n",
    "    #设置双指针，初始位置分别为arr开头和arr末尾\n",
    "    i, j = 0, len(arr) - 1\n",
    "    #设置循环终止条件 i < j\n",
    "    while i < j:\n",
    "        #如果两数之和 == 目标值, 则跳出循环\n",
    "        if arr[i] + arr[j] == s:\n",
    "            break\n",
    "        #如果两数之和小于目标值，由于是有序数组，左指针向右移动一个单位，增大二数之和\n",
    "        elif arr[i] + arr[j] < s:\n",
    "            i += 1\n",
    "        #如果两数之和大于目标值，由于是有序数组，右指针向左移动一个单位，减小二数之和\n",
    "        else:\n",
    "            j -= 1\n",
    "            \n",
    "    return [i+1, j+1]"
   ]
  },
  {
   "cell_type": "code",
   "execution_count": 13,
   "metadata": {},
   "outputs": [
    {
     "name": "stdout",
     "output_type": "stream",
     "text": [
      "[1, 3]\n"
     ]
    }
   ],
   "source": [
    "arr = [3, 2, 4]\n",
    "s = 6\n",
    "print(twoSum(arr, s))"
   ]
  },
  {
   "cell_type": "code",
   "execution_count": 15,
   "metadata": {},
   "outputs": [
    {
     "data": {
      "text/plain": [
       "[2, 3, 4]"
      ]
     },
     "execution_count": 15,
     "metadata": {},
     "output_type": "execute_result"
    }
   ],
   "source": [
    "arr = sorted(arr)\n",
    "arr"
   ]
  },
  {
   "cell_type": "code",
   "execution_count": null,
   "metadata": {},
   "outputs": [],
   "source": []
  }
 ],
 "metadata": {
  "kernelspec": {
   "display_name": "Python 3",
   "language": "python",
   "name": "python3"
  },
  "language_info": {
   "codemirror_mode": {
    "name": "ipython",
    "version": 3
   },
   "file_extension": ".py",
   "mimetype": "text/x-python",
   "name": "python",
   "nbconvert_exporter": "python",
   "pygments_lexer": "ipython3",
   "version": "3.7.5"
  }
 },
 "nbformat": 4,
 "nbformat_minor": 2
}
